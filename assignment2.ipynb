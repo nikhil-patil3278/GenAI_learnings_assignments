{
 "cells": [
  {
   "cell_type": "code",
   "execution_count": 1,
   "id": "6c6567c8",
   "metadata": {},
   "outputs": [
    {
     "name": "stderr",
     "output_type": "stream",
     "text": [
      "python-dotenv could not parse statement starting at line 17\n"
     ]
    },
    {
     "data": {
      "text/plain": [
       "True"
      ]
     },
     "execution_count": 1,
     "metadata": {},
     "output_type": "execute_result"
    }
   ],
   "source": [
    "from dotenv import load_dotenv\n",
    "from langchain_openai import AzureOpenAIEmbeddings\n",
    "load_dotenv()"
   ]
  },
  {
   "cell_type": "code",
   "execution_count": 2,
   "id": "8a4ccadb",
   "metadata": {},
   "outputs": [],
   "source": [
    "import os\n",
    "# Optional: kill legacy envs that cause the validation error\n",
    "\n",
    "for bad in (\"OPENAI_API_BASE\", \"OPENAI_API_TYPE\"):\n",
    "    os.environ.pop(bad, None)\n",
    "\n",
    "embeddings_client = AzureOpenAIEmbeddings(\n",
    "    # You can rely on env vars instead; passing explicitly is fine too:\n",
    "    azure_endpoint=os.environ[\"AZURE_OPENAI_ENDPOINT\"],\n",
    "    api_key=os.environ[\"AZURE_OPENAI_API_KEY\"],\n",
    "    openai_api_version=os.environ.get(\"AZURE_OPENAI_API_VERSION\", \"2024-02-01\"),\n",
    "\n",
    "    # Use your Azure **deployment name** for the embeddings model\n",
    "    model=\"text-embedding-3-small\",    # <-- your deployment name\n",
    "    # dimensions=3072  # optional if you configured custom dims on text-embedding-3*\n",
    ")"
   ]
  },
  {
   "cell_type": "code",
   "execution_count": 3,
   "id": "75a48332",
   "metadata": {},
   "outputs": [
    {
     "data": {
      "text/html": [
       "<div>\n",
       "<style scoped>\n",
       "    .dataframe tbody tr th:only-of-type {\n",
       "        vertical-align: middle;\n",
       "    }\n",
       "\n",
       "    .dataframe tbody tr th {\n",
       "        vertical-align: top;\n",
       "    }\n",
       "\n",
       "    .dataframe thead th {\n",
       "        text-align: right;\n",
       "    }\n",
       "</style>\n",
       "<table border=\"1\" class=\"dataframe\">\n",
       "  <thead>\n",
       "    <tr style=\"text-align: right;\">\n",
       "      <th></th>\n",
       "      <th>course_id</th>\n",
       "      <th>title</th>\n",
       "      <th>description</th>\n",
       "    </tr>\n",
       "  </thead>\n",
       "  <tbody>\n",
       "    <tr>\n",
       "      <th>0</th>\n",
       "      <td>C001</td>\n",
       "      <td>Foundations of Machine Learning</td>\n",
       "      <td>Understand foundational machine learning algor...</td>\n",
       "    </tr>\n",
       "    <tr>\n",
       "      <th>1</th>\n",
       "      <td>C002</td>\n",
       "      <td>Deep Learning with TensorFlow and Keras</td>\n",
       "      <td>Explore neural network architectures using Ten...</td>\n",
       "    </tr>\n",
       "    <tr>\n",
       "      <th>2</th>\n",
       "      <td>C003</td>\n",
       "      <td>Natural Language Processing Fundamentals</td>\n",
       "      <td>Dive into NLP techniques for processing and un...</td>\n",
       "    </tr>\n",
       "    <tr>\n",
       "      <th>3</th>\n",
       "      <td>C004</td>\n",
       "      <td>Computer Vision and Image Processing</td>\n",
       "      <td>Learn the principles of computer vision and im...</td>\n",
       "    </tr>\n",
       "    <tr>\n",
       "      <th>4</th>\n",
       "      <td>C005</td>\n",
       "      <td>Reinforcement Learning Basics</td>\n",
       "      <td>Get introduced to reinforcement learning parad...</td>\n",
       "    </tr>\n",
       "  </tbody>\n",
       "</table>\n",
       "</div>"
      ],
      "text/plain": [
       "  course_id                                     title  \\\n",
       "0      C001           Foundations of Machine Learning   \n",
       "1      C002   Deep Learning with TensorFlow and Keras   \n",
       "2      C003  Natural Language Processing Fundamentals   \n",
       "3      C004      Computer Vision and Image Processing   \n",
       "4      C005             Reinforcement Learning Basics   \n",
       "\n",
       "                                         description  \n",
       "0  Understand foundational machine learning algor...  \n",
       "1  Explore neural network architectures using Ten...  \n",
       "2  Dive into NLP techniques for processing and un...  \n",
       "3  Learn the principles of computer vision and im...  \n",
       "4  Get introduced to reinforcement learning parad...  "
      ]
     },
     "execution_count": 3,
     "metadata": {},
     "output_type": "execute_result"
    }
   ],
   "source": [
    "import pandas as pd\n",
    "data = pd.read_csv(\"/home/zadmin/Desktop/GAAI-B4-Azure/datasets/assignment2dataset.csv\")\n",
    "data.head()"
   ]
  },
  {
   "cell_type": "code",
   "execution_count": 4,
   "id": "3827ae57",
   "metadata": {},
   "outputs": [
    {
     "name": "stdout",
     "output_type": "stream",
     "text": [
      "Computing embeddings for all courses...\n",
      "\n",
      "Profile 1: I've completed the 'Python Programming for Data Science' course and enjoy data visualization. What should I take next?\n",
      "For Profile 5:I'm interested in blockchain and smart contracts but have no prior experience. Which courses do you suggest?\n",
      "  C016 | Python Programming for Data Science | similarity: 0.5605\n",
      "For Profile 5:I'm interested in blockchain and smart contracts but have no prior experience. Which courses do you suggest?\n",
      "  C014 | Data Visualization with Tableau | similarity: 0.4504\n",
      "For Profile 5:I'm interested in blockchain and smart contracts but have no prior experience. Which courses do you suggest?\n",
      "  C011 | Big Data Analytics with Spark | similarity: 0.4304\n",
      "For Profile 5:I'm interested in blockchain and smart contracts but have no prior experience. Which courses do you suggest?\n",
      "  C017 | R Programming and Statistical Analysis | similarity: 0.4244\n",
      "For Profile 5:I'm interested in blockchain and smart contracts but have no prior experience. Which courses do you suggest?\n",
      "  C004 | Computer Vision and Image Processing | similarity: 0.4158\n",
      "\n",
      "Profile 2: I know Azure basics and want to manage containers and build CI/CD pipelines. Recommend courses.\n",
      "For Profile 5:I'm interested in blockchain and smart contracts but have no prior experience. Which courses do you suggest?\n",
      "  C007 | Cloud Computing with Azure | similarity: 0.5357\n",
      "For Profile 5:I'm interested in blockchain and smart contracts but have no prior experience. Which courses do you suggest?\n",
      "  C009 | Containerization with Docker and Kubernetes | similarity: 0.4920\n",
      "For Profile 5:I'm interested in blockchain and smart contracts but have no prior experience. Which courses do you suggest?\n",
      "  C008 | DevOps Practices and CI/CD | similarity: 0.4820\n",
      "For Profile 5:I'm interested in blockchain and smart contracts but have no prior experience. Which courses do you suggest?\n",
      "  C006 | Data Engineering on AWS | similarity: 0.4261\n",
      "For Profile 5:I'm interested in blockchain and smart contracts but have no prior experience. Which courses do you suggest?\n",
      "  C025 | MLOps: Productionizing Machine Learning | similarity: 0.3773\n",
      "\n",
      "Profile 3: My background is in ML fundamentals; I'd like to specialize in neural networks and production workflows.\n",
      "For Profile 5:I'm interested in blockchain and smart contracts but have no prior experience. Which courses do you suggest?\n",
      "  C025 | MLOps: Productionizing Machine Learning | similarity: 0.4748\n",
      "For Profile 5:I'm interested in blockchain and smart contracts but have no prior experience. Which courses do you suggest?\n",
      "  C001 | Foundations of Machine Learning | similarity: 0.4332\n",
      "For Profile 5:I'm interested in blockchain and smart contracts but have no prior experience. Which courses do you suggest?\n",
      "  C002 | Deep Learning with TensorFlow and Keras | similarity: 0.3896\n",
      "For Profile 5:I'm interested in blockchain and smart contracts but have no prior experience. Which courses do you suggest?\n",
      "  C003 | Natural Language Processing Fundamentals | similarity: 0.3800\n",
      "For Profile 5:I'm interested in blockchain and smart contracts but have no prior experience. Which courses do you suggest?\n",
      "  C005 | Reinforcement Learning Basics | similarity: 0.3570\n",
      "\n",
      "Profile 4: I want to learn to build and deploy microservices with Kubernetes—what courses fit best?\n",
      "For Profile 5:I'm interested in blockchain and smart contracts but have no prior experience. Which courses do you suggest?\n",
      "  C009 | Containerization with Docker and Kubernetes | similarity: 0.6118\n",
      "For Profile 5:I'm interested in blockchain and smart contracts but have no prior experience. Which courses do you suggest?\n",
      "  C010 | APIs and Microservices Architecture | similarity: 0.4748\n",
      "For Profile 5:I'm interested in blockchain and smart contracts but have no prior experience. Which courses do you suggest?\n",
      "  C007 | Cloud Computing with Azure | similarity: 0.4381\n",
      "For Profile 5:I'm interested in blockchain and smart contracts but have no prior experience. Which courses do you suggest?\n",
      "  C008 | DevOps Practices and CI/CD | similarity: 0.4290\n",
      "For Profile 5:I'm interested in blockchain and smart contracts but have no prior experience. Which courses do you suggest?\n",
      "  C006 | Data Engineering on AWS | similarity: 0.4042\n",
      "\n",
      "Profile 5: I'm interested in blockchain and smart contracts but have no prior experience. Which courses do you suggest?\n",
      "For Profile 5:I'm interested in blockchain and smart contracts but have no prior experience. Which courses do you suggest?\n",
      "  C023 | Blockchain Technology and Smart Contracts | similarity: 0.5762\n",
      "For Profile 5:I'm interested in blockchain and smart contracts but have no prior experience. Which courses do you suggest?\n",
      "  C021 | Cybersecurity Fundamentals | similarity: 0.3147\n",
      "For Profile 5:I'm interested in blockchain and smart contracts but have no prior experience. Which courses do you suggest?\n",
      "  C024 | Augmented and Virtual Reality Development | similarity: 0.3113\n",
      "For Profile 5:I'm interested in blockchain and smart contracts but have no prior experience. Which courses do you suggest?\n",
      "  C022 | Internet of Things (IoT) Development | similarity: 0.2990\n",
      "For Profile 5:I'm interested in blockchain and smart contracts but have no prior experience. Which courses do you suggest?\n",
      "  C013 | NoSQL Databases and MongoDB | similarity: 0.2959\n"
     ]
    }
   ],
   "source": [
    "# Assignment 2: Course Recommendation Engine using Azure OpenAI Embeddings\n",
    "\n",
    "import os\n",
    "from dotenv import load_dotenv, find_dotenv\n",
    "import pandas as pd\n",
    "import numpy as np\n",
    "from sklearn.neighbors import NearestNeighbors\n",
    "from typing import List, Tuple\n",
    "\n",
    "\n",
    "df = data\n",
    "\n",
    "# Combine title + description columns\n",
    "text_cols = [c for c in df.columns if 'title' in c.lower() or 'desc' in c.lower()]\n",
    "df['full_text'] = df[text_cols].fillna('').agg(' '.join, axis=1)\n",
    "\n",
    "# 5. Compute embeddings for all courses\n",
    "print(\"Computing embeddings for all courses...\")\n",
    "course_embeddings = embeddings_client.embed_documents(df['full_text'].tolist())\n",
    "X = np.array(course_embeddings)\n",
    "\n",
    "# Build NearestNeighbors index\n",
    "nn = NearestNeighbors(n_neighbors=10, metric='cosine')\n",
    "nn.fit(X)\n",
    "\n",
    "# Identify ID and title columns\n",
    "id_col = next((c for c in df.columns if 'id' in c.lower()), None)\n",
    "title_col = text_cols[0] if text_cols else df.columns[0]\n",
    "\n",
    "# 6. Recommendation function\n",
    "def recommend_courses(profile: str, completed_ids: List[str]) -> List[Tuple[str, float]]:\n",
    "    query_emb = embeddings_client.embed_query(profile)\n",
    "    distances, indices = nn.kneighbors([query_emb], n_neighbors=10)\n",
    "    recs = []\n",
    "    for idx, dist in zip(indices[0], distances[0]):\n",
    "        cid = str(df.iloc[idx][id_col]) if id_col else str(idx)\n",
    "        if cid not in completed_ids:\n",
    "            recs.append((cid, 1 - dist))  # similarity = 1 - cosine distance\n",
    "        if len(recs) >= 5:\n",
    "            break\n",
    "    return recs\n",
    "\n",
    "# 7. Evaluate on 5 sample profiles\n",
    "sample_profiles = [\n",
    "    \"I've completed the 'Python Programming for Data Science' course and enjoy data visualization. What should I take next?\",\n",
    "    \"I know Azure basics and want to manage containers and build CI/CD pipelines. Recommend courses.\",\n",
    "    \"My background is in ML fundamentals; I'd like to specialize in neural networks and production workflows.\",\n",
    "    \"I want to learn to build and deploy microservices with Kubernetes—what courses fit best?\",\n",
    "    \"I'm interested in blockchain and smart contracts but have no prior experience. Which courses do you suggest?\"\n",
    "]\n",
    "\n",
    "for i, profile in enumerate(sample_profiles, 1):\n",
    "    print(f\"\\nProfile {i}: {profile}\")\n",
    "    for cid, score in recommend_courses(profile, []):\n",
    "        title = df[df[id_col] == cid].iloc[0][title_col] if id_col else df.iloc[int(cid)][title_col]\n",
    "        print(\"For Profile 5:I'm interested in blockchain and smart contracts but have no prior experience. Which courses do you suggest?\")\n",
    "        print(f\"  {cid} | {title} | similarity: {score:.4f}\")"
   ]
  },
  {
   "cell_type": "code",
   "execution_count": 5,
   "id": "f89c6aab",
   "metadata": {},
   "outputs": [
    {
     "name": "stdout",
     "output_type": "stream",
     "text": [
      "For Profile 5:I'm interested in blockchain and smart contracts but have no prior experience. Which courses do you suggest?\n",
      "  C023 | Blockchain Technology and Smart Contracts | similarity: 0.5762\n",
      "  C021 | Cybersecurity Fundamentals | similarity: 0.3147\n",
      "  C024 | Augmented and Virtual Reality Development | similarity: 0.3113\n",
      "  C022 | Internet of Things (IoT) Development | similarity: 0.2990\n",
      "  C013 | NoSQL Databases and MongoDB | similarity: 0.2959\n"
     ]
    }
   ],
   "source": [
    "print(\"For Profile 5:I'm interested in blockchain and smart contracts but have no prior experience. Which courses do you suggest?\")\n",
    "for cid, score in recommend_courses(\"I'm interested in blockchain and smart contracts but have no prior experience. Which courses do you suggest?\", []):\n",
    "        title = df[df[id_col] == cid].iloc[0][title_col] if id_col else df.iloc[int(cid)][title_col]\n",
    "        print(f\"  {cid} | {title} | similarity: {score:.4f}\")"
   ]
  }
 ],
 "metadata": {
  "kernelspec": {
   "display_name": "genai",
   "language": "python",
   "name": "python3"
  },
  "language_info": {
   "codemirror_mode": {
    "name": "ipython",
    "version": 3
   },
   "file_extension": ".py",
   "mimetype": "text/x-python",
   "name": "python",
   "nbconvert_exporter": "python",
   "pygments_lexer": "ipython3",
   "version": "3.12.3"
  }
 },
 "nbformat": 4,
 "nbformat_minor": 5
}
